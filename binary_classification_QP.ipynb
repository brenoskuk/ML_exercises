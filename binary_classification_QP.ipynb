{
  "nbformat": 4,
  "nbformat_minor": 0,
  "metadata": {
    "colab": {
      "name": "binary_classification_QP.ipynb",
      "provenance": [],
      "collapsed_sections": [],
      "authorship_tag": "ABX9TyMSG/dR17m5Wn8kLag6TtN0",
      "include_colab_link": true
    },
    "kernelspec": {
      "name": "python3",
      "display_name": "Python 3"
    }
  },
  "cells": [
    {
      "cell_type": "markdown",
      "metadata": {
        "id": "view-in-github",
        "colab_type": "text"
      },
      "source": [
        "<a href=\"https://colab.research.google.com/github/brenoskuk/ML_exercises/blob/master/binary_classification_QP.ipynb\" target=\"_parent\"><img src=\"https://colab.research.google.com/assets/colab-badge.svg\" alt=\"Open In Colab\"/></a>"
      ]
    },
    {
      "cell_type": "markdown",
      "metadata": {
        "id": "tWuaw06G7XLV"
      },
      "source": [
        "# Exam \n",
        "\n",
        "### Author: Breno BALDAS SKUK"
      ]
    },
    {
      "cell_type": "code",
      "metadata": {
        "id": "7r16OeLLXtZn"
      },
      "source": [
        "import numpy as np\n",
        "import matplotlib.pyplot as plt\n",
        "import seaborn as sns"
      ],
      "execution_count": null,
      "outputs": []
    },
    {
      "cell_type": "markdown",
      "metadata": {
        "id": "q5sHrZqr7eIe"
      },
      "source": [
        "## Exercise 6 - Binary classification of points"
      ]
    },
    {
      "cell_type": "markdown",
      "metadata": {
        "id": "H9XkDS1rAlm1"
      },
      "source": [
        "### 1 - Data generation"
      ]
    },
    {
      "cell_type": "code",
      "metadata": {
        "id": "sk1i6iuAApUl"
      },
      "source": [
        "def gaussian_data_generation(n, mean, cov):\n",
        "  # create data which follows a multivariate Gaussian distribution\n",
        "  X = np.random.multivariate_normal(mean, cov, n) \n",
        "  return X\n",
        "\n",
        "def generate_data_cov(n, mean_0, mean_1, cov = 0.15):\n",
        "  # n is the number of points of each class   \n",
        "  cov_I = np.array([[cov, 0], [0, cov]])\n",
        "  \n",
        "  X_0=gaussian_data_generation(n, mean_0, cov_I)\n",
        "  y_0=-np.ones(n)\n",
        "\n",
        "  X_1=gaussian_data_generation(n, mean_1, cov_I)\n",
        "  y_1=np.ones(n)\n",
        "\n",
        "  X=np.concatenate((X_0,X_1))\n",
        "  y=np.concatenate((y_0,y_1))\n",
        "        \n",
        "\n",
        "\n",
        "  return X, y"
      ],
      "execution_count": null,
      "outputs": []
    },
    {
      "cell_type": "code",
      "metadata": {
        "id": "d6f6dEPUBc4M"
      },
      "source": [
        "def plot_data(X,y):\n",
        "  fig1 = plt.figure(figsize=(6, 6))\n",
        "  ax = plt.gca()\n",
        "  min_tot = np.min(X)\n",
        "  max_tot = np.max(X)\n",
        "  symlist = ['o', 'p', '*', 's', '+', 'x', 'D', 'v', '-', '^']\n",
        "  k = np.unique(y).shape[0]\n",
        "  color_blind_list = sns.color_palette(\"colorblind\", k)\n",
        "  for i, label in enumerate(y):\n",
        "      if y[i] == -1:\n",
        "        plt.scatter(X[i, 0], X[i, 1], c=[color_blind_list[(0)]],\n",
        "                    s=80, marker=symlist[int(label)])\n",
        "      else:\n",
        "        plt.scatter(X[i, 0], X[i, 1], c=[color_blind_list[(1)]],\n",
        "                    s=80, marker=symlist[int(label)])\n",
        "      \n",
        "      \n",
        "\n",
        "def plot_result(X,y,W = [0,0], xylim = 2):\n",
        "  fig = plt.figure(figsize=(6, 6))\n",
        "  xx = np.linspace(-5,5,100)\n",
        "  yy = -(W[0]*xx)/(W[1])\n",
        "  plt.plot(xx, yy, '-r')\n",
        "  ax = plt.gca()\n",
        "  min_tot = np.min(X)\n",
        "  max_tot = np.max(X)\n",
        "  symlist = ['o', 'p', '*', 's', '+', 'x', 'D', 'v', '-', '^']\n",
        "  k = np.unique(y).shape[0]\n",
        "  color_blind_list = sns.color_palette(\"colorblind\", k)\n",
        "  for i, label in enumerate(y):\n",
        "      if y[i] == -1:\n",
        "        plt.scatter(X[i, 0], X[i, 1], c=[color_blind_list[(0)]],\n",
        "                    s=80, marker=symlist[int(label)])\n",
        "      else:\n",
        "        plt.scatter(X[i, 0], X[i, 1], c=[color_blind_list[(1)]],\n",
        "                    s=80, marker=symlist[int(label)])\n",
        "  plt.ylim(-xylim, xylim)\n",
        "  plt.xlim(-xylim, xylim)\n",
        "  plt.show()"
      ],
      "execution_count": null,
      "outputs": []
    },
    {
      "cell_type": "markdown",
      "metadata": {
        "id": "F99BWcY37i9F"
      },
      "source": [
        "### 2 - Implementing newton method for centering problem over a Quadratic Programming"
      ]
    },
    {
      "cell_type": "markdown",
      "metadata": {
        "id": "LN-wnQQdFqvd"
      },
      "source": [
        "### 2.1 Newton method"
      ]
    },
    {
      "cell_type": "code",
      "metadata": {
        "id": "Nz7g7SSL9-tS"
      },
      "source": [
        "def orig_f(Q,p,v):\n",
        "  result = float((v.T.dot(Q)).dot(v) + p.T.dot(v))\n",
        "  return result"
      ],
      "execution_count": null,
      "outputs": []
    },
    {
      "cell_type": "code",
      "metadata": {
        "id": "zC6PB8kqX_G9"
      },
      "source": [
        "# f = tf0 + phi\n",
        "def f(Q,p,b,t,v):\n",
        "  n = v.shape[0]\n",
        "  # compute sum of logs simultaneously\n",
        "  sum_log = 0\n",
        "  for i in range(n):\n",
        "    value = float(v[i])\n",
        "    # first constraint\n",
        "    sum_log += np.log(-value + b[i])\n",
        "    # second constraint\n",
        "    sum_log += np.log(value)\n",
        "\n",
        "  result = float(t*(v.T @ Q @v  + p.T @ v) - sum_log)\n",
        "  \n",
        "  return result"
      ],
      "execution_count": null,
      "outputs": []
    },
    {
      "cell_type": "code",
      "metadata": {
        "id": "eBBO093Yag9H"
      },
      "source": [
        "def grad_f(Q,p,b,t,v):\n",
        "  n = v.shape[0]\n",
        "  # compute gradient of phi\n",
        "  grad_phi = np.zeros((p.shape))\n",
        "  for i in range(n):\n",
        "    value = float(v[i])\n",
        "    grad_phi[i] = 1/(-value + b[i])\n",
        "    grad_phi[i] += 1/(-value)\n",
        "  \n",
        "  # sum with gradient of t*f0\n",
        "  result = t*((Q.T + Q) @ v) + t*p + grad_phi\n",
        "  return result"
      ],
      "execution_count": null,
      "outputs": []
    },
    {
      "cell_type": "code",
      "metadata": {
        "id": "ZHtI3UsLbAL3"
      },
      "source": [
        "def hessian_f(Q,p,b,t,v):\n",
        "  n = v.shape[0]\n",
        "  # compute hessian of phi\n",
        "  hess_phi = np.eye(n)\n",
        "  for i in range(n):\n",
        "    value = float(v[i])\n",
        "    hess_phi[i][i] = 1/((value - b[i])**2)\n",
        "    hess_phi[i][i] += 1/((value)**2)\n",
        "  return t*(Q.T + Q) + hess_phi"
      ],
      "execution_count": null,
      "outputs": []
    },
    {
      "cell_type": "code",
      "metadata": {
        "id": "B6WC_ilaedCb"
      },
      "source": [
        "def backtracking(Q,p,b,t,x, delta_x, f0, f1 ,alpha, beta):\n",
        "  theta = 0.01\n",
        "  f0_delta = f(Q,p,b,t,x + theta*delta_x)\n",
        "  while(f0_delta > f0 + alpha*theta*(f1.T @ delta_x)):\n",
        "    theta = beta*theta\n",
        "    f0_delta = f(Q,p,b,t,x + theta*delta_x)\n",
        "  return theta"
      ],
      "execution_count": null,
      "outputs": []
    },
    {
      "cell_type": "code",
      "metadata": {
        "id": "81fISO9z7IVP"
      },
      "source": [
        "def newton(Q,p,b,t,x0,eps):\n",
        "  x = x0\n",
        "  stop = False\n",
        "  # alpha in [0,0.5] and beta in [0,1]\n",
        "  alpha = 0.2\n",
        "  beta = 0.5\n",
        "  n_it = 0\n",
        "  while stop == False:\n",
        "    n_it += 1\n",
        "\n",
        "    \n",
        "    f0 = f(Q,p,b,t,x)\n",
        "    # compute current gradients to use in newton step\n",
        "    \n",
        "    f1 = grad_f(Q,p,b,t,x)\n",
        "    f2 = hessian_f(Q,p,b,t,x)\n",
        "\n",
        "    # compute inverse\n",
        "    f2i = np.linalg.inv(f2)\n",
        "    \n",
        "    delta_x = -f2i @ f1\n",
        "    \n",
        "    # stopping criterion\n",
        "\n",
        "    lambda_2 = float(f1.T @ f2i @ f1)\n",
        "    \n",
        "    #print('lambda^2 = ',lambda_2)\n",
        "    if (lambda_2/2 <= eps):\n",
        "      stop = True\n",
        "    \n",
        "\n",
        "    # compute step size (there seems to be a problem with backtracking)\n",
        "    theta = backtracking(Q, p, b, t, x, delta_x, f0, f1 , alpha, beta)\n",
        "    #theta = 0.01\n",
        "    #print('delta_x = ', delta_x)\n",
        "    x = x + theta*delta_x\n",
        "    #print (x)\n",
        "  return x, n_it"
      ],
      "execution_count": null,
      "outputs": []
    },
    {
      "cell_type": "markdown",
      "metadata": {
        "id": "ZHP56AYr7rfX"
      },
      "source": [
        "### 2.2 Barrier Method"
      ]
    },
    {
      "cell_type": "code",
      "metadata": {
        "id": "wWX7XM1Q7tuG"
      },
      "source": [
        "def barr_method(Q,p,b,x0,eps,mu = 10):\n",
        "  # choose t\n",
        "  t = 1\n",
        "\n",
        "  m = x0.shape[0]\n",
        "  x, n_it = newton(Q,p,b,t,x0,eps)\n",
        "  iterates = [x0,x]\n",
        "  n_iterations = [0,n_it]\n",
        "  while (m/t >= eps):\n",
        "    t = mu*t\n",
        "    x, n_it = newton(Q,p,b,t,x,eps) \n",
        "    iterates.append(x)\n",
        "    n_iterations.append(n_it + np.sum(n_iterations))\n",
        "    \n",
        "  return iterates, n_iterations"
      ],
      "execution_count": null,
      "outputs": []
    },
    {
      "cell_type": "markdown",
      "metadata": {
        "id": "fK4lt2z7pjEP"
      },
      "source": [
        "## 3 - Solving data separation program (DS) with the barrier method"
      ]
    },
    {
      "cell_type": "markdown",
      "metadata": {
        "id": "jafZmTwdV50O"
      },
      "source": [
        "OBS: There is an error where sometimes a negative log is calculated. I've spent A LOT of time trying to find it but well, time is up. The method works otherwise! "
      ]
    },
    {
      "cell_type": "markdown",
      "metadata": {
        "id": "jAX8cjfPqOL3"
      },
      "source": [
        "### 3.1 Generating random binary problems over $R^2$"
      ]
    },
    {
      "cell_type": "code",
      "metadata": {
        "colab": {
          "base_uri": "https://localhost:8080/",
          "height": 374
        },
        "id": "WcsXXtmkF0eM",
        "outputId": "44ab159a-0781-477d-e9c3-eacbd3b742c2"
      },
      "source": [
        "# regularization parameter\n",
        "C = 10\n",
        "\n",
        "# number of points (must be pair for simplicity's sake)\n",
        "n = 100\n",
        "\n",
        "cov = 0.1\n",
        "mean_0 = [0, 1]        \n",
        "mean_1 = [-1, 0]\n",
        "\n",
        "X,y = generate_data_cov(int(n/2),mean_0, mean_1, cov)\n",
        "\n",
        "plot_data(X,y)"
      ],
      "execution_count": null,
      "outputs": [
        {
          "output_type": "display_data",
          "data": {
            "image/png": "[encoded data removed]",
            "text/plain": [
              "<Figure size 432x432 with 1 Axes>"
            ]
          },
          "metadata": {
            "tags": [],
            "needs_background": "light"
          }
        }
      ]
    },
    {
      "cell_type": "markdown",
      "metadata": {
        "id": "vLXybu_7prRO"
      },
      "source": [
        "We have shown that the dual of (DS) is equivalent to a (QP) with\n",
        "\n",
        "$ Q = \\frac{1}{2} diag(y)XX^Tdiag(y) $ \n",
        "\n",
        "$ p = -1_n $\n",
        "\n",
        "$ b = C1_n$\n",
        "\n",
        "We can thus reuse the code of the HW2 with some adjustments, since there is another set of constraits we now have \n",
        "$$-\\phi(x) = \\sum^{m/2}_{i=1}{log(-x_i + b_i)} + \\sum^{m}_{i=m/2+1}{log(x_i)}$$ \n",
        "It suffices to change the functions that calculate it"
      ]
    },
    {
      "cell_type": "code",
      "metadata": {
        "id": "LmezaTTpGyuF"
      },
      "source": [
        "# corresponding values\n",
        "Y = np.diag(y)\n",
        "Q = 0.5 * (Y.T) @ X @ (X.T) @ Y\n",
        "p = -1*np.ones((n, 1))\n",
        "b = C*np.ones((n,1))"
      ],
      "execution_count": null,
      "outputs": []
    },
    {
      "cell_type": "code",
      "metadata": {
        "id": "J3VZyx2xQDWK"
      },
      "source": [
        "# initial value\n",
        "v0 = C*0.5*np.ones((n,1))\n",
        "#v0 = np.zeros((n,1))"
      ],
      "execution_count": null,
      "outputs": []
    },
    {
      "cell_type": "markdown",
      "metadata": {
        "id": "IODtrQdYJEiw"
      },
      "source": [
        "Solving dual using barrier method"
      ]
    },
    {
      "cell_type": "code",
      "metadata": {
        "id": "kLR4CjiKJCvx"
      },
      "source": [
        "# fixed hyperparameters\n",
        "lamb = 10\n",
        "mu = 50\n",
        "eps = 0.1"
      ],
      "execution_count": null,
      "outputs": []
    },
    {
      "cell_type": "code",
      "metadata": {
        "colab": {
          "base_uri": "https://localhost:8080/"
        },
        "id": "IhaPDLVmJpEv",
        "outputId": "beb7ae8c-b2a2-45b9-d693-fd75a60437a1"
      },
      "source": [
        "ite, _ = barr_method(Q,p,b,v0,eps,mu)\n",
        "print('finished')"
      ],
      "execution_count": null,
      "outputs": [
        {
          "output_type": "stream",
          "text": [
            "finished\n"
          ],
          "name": "stdout"
        }
      ]
    },
    {
      "cell_type": "markdown",
      "metadata": {
        "id": "O-1RwrcNS1BC"
      },
      "source": [
        "## 3.3 Obtaining solution of the Primal "
      ]
    },
    {
      "cell_type": "code",
      "metadata": {
        "id": "an59ryetWxxL"
      },
      "source": [
        "vp = np.array(ite[-1])"
      ],
      "execution_count": null,
      "outputs": []
    },
    {
      "cell_type": "code",
      "metadata": {
        "colab": {
          "base_uri": "https://localhost:8080/"
        },
        "id": "BhKvNCGxQNw5",
        "outputId": "5de7dae2-d6ff-4750-af79-fe897e13b7b6"
      },
      "source": [
        "eps_zero = 0.01\n",
        "for i in range(vp.shape[0]):\n",
        "  # set thresh to zero\n",
        "  if vp[i] < eps_zero:\n",
        "    vp[i] = 0\n",
        "print(vp.T)"
      ],
      "execution_count": null,
      "outputs": [
        {
          "output_type": "stream",
          "text": [
            "[[0.         9.99959909 0.         0.         0.         0.01378296\n",
            "  0.         0.         0.         0.         0.         0.\n",
            "  0.         0.         0.         0.         0.         0.\n",
            "  0.         0.         0.         0.         0.         0.\n",
            "  0.         0.         0.         0.         0.         0.\n",
            "  0.         0.         0.         0.         0.         0.\n",
            "  0.         0.         0.         7.51648474 0.         0.\n",
            "  0.         0.         0.         0.         0.         0.\n",
            "  0.         0.         0.         0.         0.         0.\n",
            "  0.         0.         0.         0.         0.         0.\n",
            "  0.         0.         0.         0.         0.         0.\n",
            "  0.         0.         0.         0.         0.         0.\n",
            "  0.         0.         0.         0.         0.         0.\n",
            "  0.         0.         0.         0.         0.         0.\n",
            "  0.         0.         0.         0.         6.48132736 0.\n",
            "  0.         0.         0.         0.         0.         0.\n",
            "  0.         0.         0.         0.        ]]\n"
          ],
          "name": "stdout"
        }
      ]
    },
    {
      "cell_type": "markdown",
      "metadata": {
        "id": "UC-jCZabRCUn"
      },
      "source": [
        "Since $$(C - \\alpha_i)z_i = 0$$ \n",
        "Non null values mean that $z_i = 0$.\n",
        "Values equal to Z mean that $z_i > 0$\n",
        "We can use this to obtain $w$:\n",
        "$$w = \\sum^{m}_{i=1}\\alpha_iy_ix_i$$\n"
      ]
    },
    {
      "cell_type": "code",
      "metadata": {
        "id": "Kpamd70RUiPC"
      },
      "source": [
        "w = (Y @ X).T @ vp"
      ],
      "execution_count": null,
      "outputs": []
    },
    {
      "cell_type": "code",
      "metadata": {
        "colab": {
          "base_uri": "https://localhost:8080/"
        },
        "id": "d9JuJxJ4U-f0",
        "outputId": "ba94ac5c-10c2-4a2f-d01c-7b06617958e5"
      },
      "source": [
        "w"
      ],
      "execution_count": null,
      "outputs": [
        {
          "output_type": "execute_result",
          "data": {
            "text/plain": [
              "array([[-2.08313329],\n",
              "       [-3.03162031]])"
            ]
          },
          "metadata": {
            "tags": []
          },
          "execution_count": 268
        }
      ]
    },
    {
      "cell_type": "code",
      "metadata": {
        "colab": {
          "base_uri": "https://localhost:8080/",
          "height": 378
        },
        "id": "negjaBcDU31F",
        "outputId": "74251c39-fa68-4c6c-85dc-f4b39d1eb02c"
      },
      "source": [
        "plot_result(X,y,W = [w[0],w[1]], xylim = 2)"
      ],
      "execution_count": null,
      "outputs": [
        {
          "output_type": "display_data",
          "data": {
            "image/png": "[encoded data removed]",
            "text/plain": [
              "<Figure size 432x432 with 1 Axes>"
            ]
          },
          "metadata": {
            "tags": [],
            "needs_background": "light"
          }
        }
      ]
    },
    {
      "cell_type": "markdown",
      "metadata": {
        "id": "5J8wKiyVF6EW"
      },
      "source": [
        "## Hyperparameter C analisys"
      ]
    },
    {
      "cell_type": "code",
      "metadata": {
        "colab": {
          "base_uri": "https://localhost:8080/",
          "height": 625
        },
        "id": "FfeLHk7LKO_m",
        "outputId": "3328173d-524b-421d-fb64-7e17505d5b19"
      },
      "source": [
        "# number of samples\n",
        "n = 50\n",
        "# fixed lambda\n",
        "lamb = 10\n",
        "# chose according to what was seen in HW3\n",
        "mu = 50\n",
        "\n",
        "fig, ax = plt.subplots(figsize=(20, 10))\n",
        "\n",
        "# random generation\n",
        "cov = 0.5\n",
        "mean_0 = [0, 1]        \n",
        "mean_1 = [-1, 0]\n",
        "\n",
        "X,y = generate_data_cov(int(n/2),mean_0, mean_1, cov)\n",
        "\n",
        "# equivalence between (DS) and (QP)\n",
        "Y = np.diag(y)\n",
        "Q = 0.5 * (Y.T) @ X @ (X.T) @ Y\n",
        "p = -1*np.ones((n, 1))\n",
        "\n",
        "# initial value must be feasible\n",
        "v0 = 2*0.5*np.ones((n,1))\n",
        "\n",
        "eps = 0.01\n",
        "op_values = []\n",
        "C_values = [2,5,10,20,50]\n",
        "for C in C_values:\n",
        "  \n",
        "  b = C*np.ones((n,1))\n",
        "\n",
        "  ite, n_ite = barr_method(Q,p,b,v0,eps,mu)\n",
        "\n",
        "  distances = []\n",
        "  vp = ite[-1]\n",
        "  fp = f0(Q,p,vp)\n",
        "  op_values.append(vp)\n",
        "  for i in range(len(ite)):\n",
        "    d = f0(Q,p,ite[i]) - fp\n",
        "    distances.append(d)\n",
        "\n",
        "  # Data for plotting\n",
        "\n",
        "  label = 'C = ' + str(C)\n",
        "\n",
        "  ax.semilogx(n_ite, distances, label=label)\n",
        "plt.xlim(1, 10000)\n",
        "plt.ylim(0, 100)\n",
        "ax.set(xlabel='number of newton iterations', ylabel='gap',\n",
        "        title='Gap vs Newton Iterations')\n",
        "ax.grid()\n",
        "ax.legend();\n",
        "plt.show()\n"
      ],
      "execution_count": null,
      "outputs": [
        {
          "output_type": "display_data",
          "data": {
            "image/png": "[encoded data removed]",
            "text/plain": [
              "<Figure size 1440x720 with 1 Axes>"
            ]
          },
          "metadata": {
            "tags": [],
            "needs_background": "light"
          }
        }
      ]
    },
    {
      "cell_type": "markdown",
      "metadata": {
        "id": "7z3I41unKRy_"
      },
      "source": [
        "### Comment: It seems that the greater C is, the more \"accurate\" is the final solution, as we can see the curve with greater mu attain a lower gap for 1000 iterations. "
      ]
    },
    {
      "cell_type": "markdown",
      "metadata": {
        "id": "2bLzdBa1P-uv"
      },
      "source": [
        "We can see that for greater values of mu greater, the solution is obtained with a reasonable number of iterations. \n",
        "Also, as the obtained solution is the same, the choice of $\\mu$ won't impact $w$.\n"
      ]
    }
  ]
}